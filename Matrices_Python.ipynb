{
 "cells": [
  {
   "cell_type": "markdown",
   "id": "f0271cbb-df0e-461a-a021-4dd3b2aae39c",
   "metadata": {},
   "source": [
    "# Matrices et Python"
   ]
  },
  {
   "cell_type": "markdown",
   "id": "3c4e2ddb-d84b-4208-bcf9-408f6e200b5e",
   "metadata": {},
   "source": [
    "L'objectif de cet article est d'apprendre à définir et à utiliser des matrices dans un script Python.\n",
    "\n",
    "Ce document est disponible en mode interactif à partir du lien ci-dessous. Dans ce cas, chaque bloc de code doit être exécuté (flèche noire en haut de page ou Shift + Enter et peut être modifié au fur et à mesure de la lecture."
   ]
  },
  {
   "cell_type": "markdown",
   "id": "9fd4559f-a068-464b-86d5-8e6f3ee9bec7",
   "metadata": {},
   "source": [
    "## Définition et opérations\n",
    "\n",
    "### Définition d'une matrice\n",
    "\n",
    "Pour travailler avec les matrices, nous utiliserons la librairie Python `numpy`, référence pour le calcul scientifique en Python. Pour cela, la première chose à faire est d'importer cette librairie.\n",
    "\n",
    "Les matrices peuvent ensuite être définies avec l'instruction `array` de la librairie `numpy`, qui prend en argument la liste des lignes de la matrice à définir.\n",
    "\n",
    "Le code ci-dessous définit la matrice $A=\\begin{pmatrix} 2 & -4 & 0 \\\\ -1 & -2 & 1\\end{pmatrix}$ de taille $2\\times 3$ et la matrice $B=\\begin{pmatrix} -2 & -1  \\\\ 0 &  1\\end{pmatrix}$ de taille $2\\times 2$.\n",
    "\n",
    "La fonction `np.shape()` renvoie la taille d'une matrice sous la forme d'un couple d'entiers."
   ]
  },
  {
   "cell_type": "code",
   "execution_count": 1,
   "id": "1eb962cf-fb0d-41b1-8746-58be30002795",
   "metadata": {},
   "outputs": [
    {
     "name": "stdout",
     "output_type": "stream",
     "text": [
      "[[ 2 -4  0]\n",
      " [-1 -2  1]] (2, 3)\n",
      "[[-2 -1]\n",
      " [ 0  1]] (2, 2)\n"
     ]
    }
   ],
   "source": [
    "import numpy as np\n",
    "\n",
    "A = np.array([[2,-4,0],[-1,-2,1]])\n",
    "B = np.array([[-2,-1],[0,1]])\n",
    "\n",
    "print(A, np.shape(A))\n",
    "print(B, np.shape(B))"
   ]
  },
  {
   "cell_type": "markdown",
   "id": "9915de8b-fc41-487f-b48e-950de027a3a4",
   "metadata": {},
   "source": [
    "### Somme, différence, produit par un réel\n",
    "\n",
    "L'addition de deux matrices de même taille se fera simplement avec le signe `+`, la soustraction avec le signe `-`.\n",
    "\n",
    "Pour multiplier une matrice par un réel, on utilisera le symbole `*`."
   ]
  },
  {
   "cell_type": "code",
   "execution_count": 2,
   "id": "f8432192-479d-469c-be23-2cc6ac176244",
   "metadata": {},
   "outputs": [
    {
     "name": "stdout",
     "output_type": "stream",
     "text": [
      "[[ 4 -8  0]\n",
      " [-2 -4  2]]\n",
      "[[  6 -12   0]\n",
      " [ -3  -6   3]]\n",
      "[[-2  4  0]\n",
      " [ 1  2 -1]]\n"
     ]
    }
   ],
   "source": [
    "C = 2*A\n",
    "print(C)\n",
    "print(A+C)\n",
    "print(A-C)"
   ]
  },
  {
   "cell_type": "markdown",
   "id": "2c56a775-821e-4b2c-a382-c2ed8330621e",
   "metadata": {},
   "source": [
    "### Produit de deux matrices\n",
    "Pour le produit de matrices, il faut faire attention ! Le symbole `*` entre deux matrices de même taille renvoie la matrice dont les coefficients sont les produits terme à terme des coeficients des deux matrices de départ. Cela ne correspond pas au produit de deux matrices."
   ]
  },
  {
   "cell_type": "code",
   "execution_count": 65,
   "id": "1a6d4de4-ea81-4b41-a39b-c6a54a26b3ef",
   "metadata": {},
   "outputs": [
    {
     "name": "stdout",
     "output_type": "stream",
     "text": [
      "[[ 8 32  0]\n",
      " [ 2  8  2]]\n"
     ]
    }
   ],
   "source": [
    "print(A*C)"
   ]
  },
  {
   "cell_type": "markdown",
   "id": "27ba1089-cf69-4012-88af-8201140f7b92",
   "metadata": {},
   "source": [
    "Avec une version récente de Python (à partir de la version 3.5), on peut réaliser un produit de matrices en utilisant le symbole `@`. Pour des versions plus anciennes, on utilise la fonction `np.dot()`.\n",
    "\n",
    "Bien entendu, on ne peut multiplier une matrice de taille $m\\times n$ que par une matrice de taille $n\\times p$ !\n",
    "\n",
    "Dans notre exemple, on peut calculer le produit $B\\times A$ de la matrice $B$ de taille $2\\times 2$ par la matrice $A$ de taille $2\\times 3$ par "
   ]
  },
  {
   "cell_type": "code",
   "execution_count": 66,
   "id": "7dceabc1-6fee-4f5f-a65e-d29064e78072",
   "metadata": {},
   "outputs": [
    {
     "name": "stdout",
     "output_type": "stream",
     "text": [
      "[[-3 10 -1]\n",
      " [-1 -2  1]]\n",
      "[[-3 10 -1]\n",
      " [-1 -2  1]]\n"
     ]
    }
   ],
   "source": [
    "print(B@A)\n",
    "print(np.dot(B,A))"
   ]
  },
  {
   "cell_type": "markdown",
   "id": "ec766f45-9e3f-430a-bcc3-7257acf6bdc9",
   "metadata": {},
   "source": [
    "### Puissance et inverse d'une matrice carrée\n",
    "\n",
    "Pour calculer la puissance d'une matrice carrée, nous aurons besoin d'une fonction supplémentaire `matrix_power(B,n)` de la sous-librairie `linalg` du module `numpy`.\n",
    "$B$ doit être une matrice carrée. Si $n$ est un entier naturel, la fonction renvoie la matrice $A^n$ ; si $n=0$, elle envoie la matrice identité de même taille que $B$ ; si $n=-1$ et si $B$ est inversible, elle renvoie **l'inverse** de la matrice $B$."
   ]
  },
  {
   "cell_type": "code",
   "execution_count": 67,
   "id": "d114baab-6e38-472a-82d8-fb5c17cc00bb",
   "metadata": {},
   "outputs": [
    {
     "name": "stdout",
     "output_type": "stream",
     "text": [
      "B^ 0 = [[1 0]\n",
      " [0 1]]\n",
      "B^ 1 = [[-2 -1]\n",
      " [ 0  1]]\n",
      "B^ 2 = [[4 1]\n",
      " [0 1]]\n",
      "B^ 3 = [[-8 -3]\n",
      " [ 0  1]]\n",
      "B^ 4 = [[16  5]\n",
      " [ 0  1]]\n",
      "Inverse de B :  [[-0.5 -0.5]\n",
      " [ 0.   1. ]]\n"
     ]
    }
   ],
   "source": [
    "from numpy.linalg import matrix_power\n",
    "\n",
    "for k in range(5):\n",
    "    print(\"B^\",k,\"=\",matrix_power(B,k))\n",
    "print(\"Inverse de B : \",matrix_power(B,-1))"
   ]
  },
  {
   "cell_type": "markdown",
   "id": "a5489919-2fda-48c8-935e-8e40e2c56305",
   "metadata": {},
   "source": [
    "### Fonctions complémentaires\n",
    "\n",
    "Voici quelques exemples d'autres fonctions disponibles sur les matrices.\n",
    "\n",
    "* La commande `.T` permet d'obtenir la transposée d'une matrice (échange entre les lignes et les colonnes).\n",
    "* `np.zeros((n,p))` renvoie la matrice nulle de taille $n\\times p$.\n",
    "* `np.eye(n,p)` renvoie la matrice diagonale de taille $n\\times p$ avec des 1 sur la diagonale.\n",
    "* `np.ones((n,p))` renvoie la matrice de taille $n\\times p$ remplie de 1.\n",
    "* `np.random.randint(n1,n2,(n,p))` renvoie une matrice de taille $n\\times p$ remplie d'entiers aléatoires compris entre $n_1$ inclus et $n_2$ exclu."
   ]
  },
  {
   "cell_type": "code",
   "execution_count": 68,
   "id": "f76db6d0-0ef3-451e-bd7b-aed69c5ae994",
   "metadata": {},
   "outputs": [
    {
     "name": "stdout",
     "output_type": "stream",
     "text": [
      "[[ 2 -1]\n",
      " [-4 -2]\n",
      " [ 0  1]]\n",
      "\n",
      "[[0. 0. 0. 0. 0. 0.]\n",
      " [0. 0. 0. 0. 0. 0.]]\n",
      "\n",
      "[[1. 0. 0. 0. 0. 0.]\n",
      " [0. 1. 0. 0. 0. 0.]\n",
      " [0. 0. 1. 0. 0. 0.]\n",
      " [0. 0. 0. 1. 0. 0.]\n",
      " [0. 0. 0. 0. 1. 0.]\n",
      " [0. 0. 0. 0. 0. 1.]]\n",
      "\n",
      "[[1. 1. 1. 1. 1. 1.]\n",
      " [1. 1. 1. 1. 1. 1.]]\n",
      "\n",
      "[[3 9 9 7 3]\n",
      " [9 4 6 8 7]\n",
      " [9 1 7 4 5]\n",
      " [5 1 8 8 2]\n",
      " [7 5 2 9 5]]\n"
     ]
    }
   ],
   "source": [
    "print(A.T)\n",
    "print()\n",
    "print(np.zeros((2,6)))\n",
    "print()\n",
    "print(np.eye(6,6))\n",
    "print()\n",
    "print(np.ones((2,6)))\n",
    "print()\n",
    "print(np.random.randint(1,10,(5,5)))"
   ]
  },
  {
   "cell_type": "markdown",
   "id": "fc372329-c545-4a7f-baf7-283975e8407a",
   "metadata": {},
   "source": [
    "## Exercice : calcul de la puissance d'une matrice carrée"
   ]
  },
  {
   "cell_type": "markdown",
   "id": "c24cdce7-6ff1-434e-9083-54035ceeb3c6",
   "metadata": {},
   "source": [
    "On rappelle que la matrice $B$ a été définie en début de notebook par $B=\\begin{pmatrix} -2 & -1  \\\\ 0 &  1\\end{pmatrix}$.\n",
    "\n",
    "On souhaite déterminer une formule générale pour $B^n$.\n",
    "\n",
    "1. Compléter le script ci-dessous pour qu'il affiche les matrices $B^n$, de $n=1$ à $n=10$.\n",
    "2. En déduire une conjecture donnant $B^n$ en fonction de $n$ sous la forme $\\begin{pmatrix} a_n & b_n \\\\ c_n & d_n\\end{pmatrix}$, en précisant la conjecture pour les valeurs de $a_n$, $c_n$ et $d_n$.\n",
    "3. Montrer par récurrence que les suites $a_n$, $c_n$ et $d_n$ ont bien les expressions conjecturées à la question précédente et que la suite $b_n$ vérifie, pour tout entier $n\\geqslant 1$, $b_{n+1}=-2b_n-1$. \n",
    "(*Indication : on admettra qu'une matrice carrée et une de ses puissances commutent, autrement dit : $B^n\\times B=B\\times B^n=B^{n+1}$.*)\n",
    "4. Pour tout entier $n\\geqslant 1$, on pose $u_n=b_n+\\frac{1}{3}$. Montrer que la suite $(u_n)$ est géométrique.\n",
    "5. En déduire l'expression de $u_n$, puis de $b_n$ en fonction de $n$, pour n entier naturel non nul.\n",
    "3. Donner enfin la forme générale de $B^n$ en fonction de $n$."
   ]
  },
  {
   "cell_type": "code",
   "execution_count": 69,
   "id": "4aab5253-01f2-4c11-b29d-46cf7ff18c4c",
   "metadata": {},
   "outputs": [],
   "source": [
    "# Entrer votre script ci-dessous\n"
   ]
  },
  {
   "cell_type": "markdown",
   "id": "e292606a-119d-4c49-8f26-e0083943c597",
   "metadata": {},
   "source": [
    "## Exercice : Résolution d'un système d'équations\n",
    "\n",
    "On s'intéresse au système suivant : $\\mathcal{S}\\left\\{\\begin{array}{l}x+y-z=1 \\\\ -x+2y+z=0 \\\\ 2x+y-z=1\\end{array}\\right.$.\n",
    "\n",
    "On admet que ce système possède une unique solution dans $\\mathbb{R}^3$.\n",
    "\n",
    "Compléter le script ci-dessous en définissant les matrices $A$ et $B$ qui permettent d'écrire la forme matricielle $AX=B$ de ce système et en faisant les calculs nécessaires à l'affichage du vecteur colonne $X$ des solutions."
   ]
  },
  {
   "cell_type": "code",
   "execution_count": 70,
   "id": "8c0382f5-6c06-429f-9208-77c6ef37173c",
   "metadata": {},
   "outputs": [],
   "source": [
    "# Entrer votre script ci-dessous"
   ]
  }
 ],
 "metadata": {
  "kernelspec": {
   "display_name": "Python 3 (ipykernel)",
   "language": "python",
   "name": "python3"
  },
  "language_info": {
   "codemirror_mode": {
    "name": "ipython",
    "version": 3
   },
   "file_extension": ".py",
   "mimetype": "text/x-python",
   "name": "python",
   "nbconvert_exporter": "python",
   "pygments_lexer": "ipython3",
   "version": "3.9.7"
  }
 },
 "nbformat": 4,
 "nbformat_minor": 5
}
