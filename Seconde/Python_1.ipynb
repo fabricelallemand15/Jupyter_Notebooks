{
 "cells": [
  {
   "cell_type": "markdown",
   "metadata": {},
   "source": [
    "# Programmation Python : révisions de seconde"
   ]
  },
  {
   "cell_type": "markdown",
   "metadata": {},
   "source": [
    "## 1. Variables et affectations"
   ]
  },
  {
   "cell_type": "markdown",
   "metadata": {},
   "source": [
    "En python, pour **affecter** une valeur à une **variable**, on utilise le symbole `=`.\n",
    "\n",
    "Le nom d'une variable ne peut pas commencer par un chiffre."
   ]
  },
  {
   "cell_type": "code",
   "execution_count": null,
   "metadata": {},
   "outputs": [],
   "source": [
    "# On affecte la valeur 4 à la variable a ; la valeur 3.14 à la variable b et la valeur \"Toto\" à la variable c\n",
    "a = 4\n",
    "b = 3.14\n",
    "c = \"Toto\"\n",
    "\n",
    "# Pour afficher le contenu d'une variable, on utilise la fonction print()\n",
    "print(a, b, c)"
   ]
  },
  {
   "cell_type": "code",
   "execution_count": null,
   "metadata": {},
   "outputs": [],
   "source": [
    "# On peut aussi procéder à plusieurs affectations simultanément\n",
    "a, b, c = 4, 3.14, \"Toto\"\n",
    "print(a, b, c)"
   ]
  },
  {
   "cell_type": "markdown",
   "metadata": {},
   "source": [
    "Une variable peut contenir des données de différents **types**. Les types suivants sont les principaux : ils sont à connaître."
   ]
  },
  {
   "cell_type": "markdown",
   "metadata": {},
   "source": [
    "### 1.1 Variables de type numérique"
   ]
  },
  {
   "cell_type": "markdown",
   "metadata": {},
   "source": [
    "Nous distinguerons deux types de **variables numériques** (c'est-à-dire des variables représentant des nombres) : les nombres entiers (type `int`) et les nombres à virgule (type `float`).\n",
    "\n",
    "Lors de l'affectation d'une valeur à une variable, python détecte automatiquement le type de variable le plus adapté et créée une variable de ce type."
   ]
  },
  {
   "cell_type": "code",
   "execution_count": null,
   "metadata": {},
   "outputs": [],
   "source": [
    "a = 4\n",
    "# la fonction type() retourne le type d'une variable\n",
    "print(type(a))\n",
    "\n",
    "b = 3.14\n",
    "print(type(b))"
   ]
  },
  {
   "cell_type": "markdown",
   "metadata": {},
   "source": [
    "Les opérations usuelles sur les nombres sont possibles en python : +, -, \\**, /, *** (puissance)"
   ]
  },
  {
   "cell_type": "code",
   "execution_count": null,
   "metadata": {},
   "outputs": [],
   "source": [
    "a, b = 5, 15\n",
    "c = a + b\n",
    "print(c)\n",
    "d = a - b\n",
    "print(d)\n",
    "e = a * b\n",
    "print(e)\n",
    "f = a / b\n",
    "print(f)\n",
    "g = a**b\n",
    "print(g)"
   ]
  },
  {
   "cell_type": "markdown",
   "metadata": {},
   "source": [
    "Certaines opérations ne sont possibles qu'avec des nombres entiers (de type `int`) :"
   ]
  },
  {
   "cell_type": "code",
   "execution_count": null,
   "metadata": {},
   "outputs": [],
   "source": [
    "a, b = 5, 17\n",
    "# l'opérateur // permet de calculer le quotient dans la division euclidienne\n",
    "c = b // a\n",
    "print(c)\n",
    "# l'opérateur % permet de calculer le reste dans la division euclidienne\n",
    "d = b % a\n",
    "print(d)"
   ]
  },
  {
   "cell_type": "markdown",
   "metadata": {},
   "source": [
    "### 1.2 Variables de type chaînes de caractères"
   ]
  },
  {
   "cell_type": "markdown",
   "metadata": {},
   "source": [
    "En python, les chaînes de caractères sont délimitées par des guillemets simples ou doubles : `'' ou \"\"`. L'emploi des guillemets doubles est préférable car les guillemets simples servent aussi à l'apostrophe.\n",
    "\n",
    "Une variable à laquelle on a affecté une chaîne de caractère est du type `str`, **string** signifiant **chaîne** en anglais.\n",
    "\n",
    "La fonction `len()` retourne le nombre de caractères d'une chaîne."
   ]
  },
  {
   "cell_type": "code",
   "execution_count": null,
   "metadata": {},
   "outputs": [],
   "source": [
    "mot = \"programmation\"\n",
    "print(type(mot))\n",
    "print(len(mot))"
   ]
  },
  {
   "cell_type": "markdown",
   "metadata": {},
   "source": [
    "L'opérateur `+` peut aussi être utilisé avec des chaînes de carcatères : il réalise l'opération de **concaténation**, c'est-à-dire la mise bout à bout des chaînes :"
   ]
  },
  {
   "cell_type": "code",
   "execution_count": null,
   "metadata": {},
   "outputs": [],
   "source": [
    "mot1 = \"programmation\"\n",
    "mot2 = \"en python\"\n",
    "a = mot1 + \" \" + mot2\n",
    "print(a)"
   ]
  },
  {
   "cell_type": "markdown",
   "metadata": {},
   "source": [
    "Pour demander une saisie à l'utilisateur, on utilise la fonction python `input()`. Attention ! Cette fonction retourne **toujours une chaîne de caractère** ! Pour récupérer une valeur numérique, il faut donc convertir en nombre la chaîne de carcatère renvoyée à l'aide de la fonction `eval()`."
   ]
  },
  {
   "cell_type": "code",
   "execution_count": null,
   "metadata": {},
   "outputs": [],
   "source": [
    "# Première version d'un programme qui ne fait peut-être pas ce qui est attendu\n",
    "a = input(\"Entrer le premier nombre : \")\n",
    "b = input(\"Entrer le second nombre : \")\n",
    "print(\"la somme des deux nombres est égale à : \", a+b)"
   ]
  },
  {
   "cell_type": "code",
   "execution_count": null,
   "metadata": {},
   "outputs": [],
   "source": [
    "# Deuxième version du programme\n",
    "a = eval(input(\"Entrer le premier nombre : \"))\n",
    "b = eval(input(\"Entrer le second nombre : \"))\n",
    "print(\"la somme des deux nombres est égale à : \", a+b)"
   ]
  },
  {
   "cell_type": "markdown",
   "metadata": {},
   "source": [
    "## 2. Définition de fonctions"
   ]
  },
  {
   "cell_type": "markdown",
   "metadata": {},
   "source": [
    "En Python, on peut créer des fonctions à l'aide de l'instruction `def`.\n",
    "\n",
    "Une fonction peut retourner une valeur : on utilise pour cela l'instruction `return` à la fin de la définition de la fonction.\n",
    "\n",
    "### 2.1 Une fonction comme en mathématiques\n",
    "\n",
    "La fonction définie ci-dessous permet de calculer des valeurs de la fonction $f$ définie sur $\\mathbb{R}$ par $f(x)=x^2-3x+4$."
   ]
  },
  {
   "cell_type": "code",
   "execution_count": null,
   "metadata": {},
   "outputs": [],
   "source": [
    "def f(x):\n",
    "    return x**2-3*x+4"
   ]
  },
  {
   "cell_type": "markdown",
   "metadata": {},
   "source": [
    "Quand on exécute ce script, rien ne se passe : on a juste défini la fonction, mais on ne l'a pas appliquée (ou **appelée**). Pour le faire, il suffit d'utiliser son nom dans la suite du programme :"
   ]
  },
  {
   "cell_type": "code",
   "execution_count": null,
   "metadata": {},
   "outputs": [],
   "source": [
    "# on définit la fonction\n",
    "def f(x):\n",
    "    return x**2-3*x+4\n",
    "\n",
    "# on exécute la fonction\n",
    "print(f(1), f(2), f(3), f(2020))"
   ]
  },
  {
   "cell_type": "markdown",
   "metadata": {},
   "source": [
    "### 2.2 Une fonction avec plusieurs arguments\n",
    "\n",
    "La fonction ci-dessous, nommée `imc`, prend deux arguments qui sont la masse (en kg) et la taille (en m) d'un individu et retourne la valeur de l'Indice de Masse Corporelle calculé par la formule : $IMC=\\dfrac{masse}{taille^2}$."
   ]
  },
  {
   "cell_type": "code",
   "execution_count": null,
   "metadata": {},
   "outputs": [],
   "source": [
    "# on définit la fonction\n",
    "def imc(masse, taille):\n",
    "    rapport = masse/(taille**2)\n",
    "    # on retourne le résultat arrondi à deux chiffres\n",
    "    return round(rapport, 2)\n",
    "\n",
    "# maintenant, on exécute la fonction\n",
    "print(imc(66,1.70))"
   ]
  },
  {
   "cell_type": "markdown",
   "metadata": {},
   "source": [
    "### 2.3 Une fonction sans argument qui renvoie plusieurs résultats\n",
    "\n",
    "La fonction tirage ci-dessous simule le lancer de deux dés et renvoie le numéro obtenu sur chaque dé et leur somme.\n",
    "\n",
    "Dans cet exemple, on a besoin de la fonction `randint(a, b)` de Python : cette fonction renvoie un nombre entier aléatoire compris au sens large entre `a` et `b`. Pour pouvoir l'utiliser, il faut **importer** la bibliothèque `random` qui la contient : c'est ce qui est fait à la première ligne du programme."
   ]
  },
  {
   "cell_type": "code",
   "execution_count": null,
   "metadata": {},
   "outputs": [],
   "source": [
    "from random import *\n",
    "\n",
    "# on définit la fonction\n",
    "def tirage():\n",
    "    a = randint(1, 6)\n",
    "    b = randint(1, 6)\n",
    "    return a, b, a + b\n",
    "\n",
    "# on l'exécute\n",
    "print(tirage())"
   ]
  },
  {
   "cell_type": "markdown",
   "metadata": {},
   "source": [
    "<div class=\"alert alert-success\">\n",
    "    <h4>Exercices</h4>\n",
    "</div>"
   ]
  },
  {
   "cell_type": "markdown",
   "metadata": {},
   "source": [
    "#### Exercice 1\n",
    "\n",
    "Le volume d'un pavé droit est obtenu est multipliant sa largeur, sa longueur et se hauteur.\n",
    "\n",
    "Compléter le script ci-dessous pour que la fonction `volume` renvoie le volume du pavé droit de dimensions `a`, `b` et `c` et tester cette fonction avec les valeurs 4, 6 et 3."
   ]
  },
  {
   "cell_type": "code",
   "execution_count": null,
   "metadata": {},
   "outputs": [],
   "source": [
    "def volume(a, b, c):\n",
    "    V = ...\n",
    "    return ...\n",
    "\n",
    "..."
   ]
  },
  {
   "cell_type": "markdown",
   "metadata": {},
   "source": [
    "#### Exercice 2\n",
    "\n",
    "La fonction ci-dessous permet de calculer la valeur approchée de la longueur d'un cercle de rayon `R` avec deux chiffres après la virgule.\n",
    "\n",
    "Tester cette fonction, puis écrire et tester une deuxième fonction qui retourne l'aire d'un disque."
   ]
  },
  {
   "cell_type": "code",
   "execution_count": null,
   "metadata": {},
   "outputs": [],
   "source": [
    "# om importe le module math pour utliser la constante pi\n",
    "from math import *\n",
    "\n",
    "def longueur(R):\n",
    "    return round(2*pi*R, 2)\n",
    "\n",
    "...\n",
    "\n",
    "def ..."
   ]
  },
  {
   "cell_type": "markdown",
   "metadata": {},
   "source": [
    "<div class=\"alert alert-success\">\n",
    "    \n",
    "</div>"
   ]
  },
  {
   "cell_type": "markdown",
   "metadata": {},
   "source": [
    "## 3. Instructions conditionnelles"
   ]
  },
  {
   "cell_type": "markdown",
   "metadata": {},
   "source": [
    "On utilise des instructions conditionnelles lorsque certaines instructions ne doivent être exécutées que lorsqu'une condition est réalisée. On réalise alors un **test** pour vérifier si la condition voulue est **vraie** (`True`) ou **fausse** (`False`).\n",
    "\n",
    "Les opérateurs de test en python sont les suivants :\n",
    "\n",
    "* test \"égal à\" `==`\n",
    "* test \"différent de\" `!=`\n",
    "* test \"inférieur ou égal\" `<=`\n",
    "* test \"supérieur ou égal\" `>=`\n",
    "* test \"inférieur strict\" `<`\n",
    "* test \"supérieur strict\" `>`\n",
    "* test \"appartient à\" `in`\n",
    "\n",
    "Voici quelques exemples :"
   ]
  },
  {
   "cell_type": "code",
   "execution_count": null,
   "metadata": {},
   "outputs": [],
   "source": [
    "# Simulation du lancer d'un dé : on gagne si on obtient 6\n",
    "from random import randint\n",
    "\n",
    "x = randint(1,6)\n",
    "if x == 6:\n",
    "    print(\"Gagné !\")\n",
    "else:\n",
    "    print(\"Perdu !\")"
   ]
  },
  {
   "cell_type": "code",
   "execution_count": null,
   "metadata": {},
   "outputs": [],
   "source": [
    "mot = \"algorithmique\"\n",
    "lettre = input(\"Entrer une lettre : \")\n",
    "if lettre in mot:\n",
    "    print(\"Bravo, vous avez trouvé une lettre du mot !\")\n",
    "else:\n",
    "    print(\"La lettre proposée n'est pas dans le mot\")"
   ]
  },
  {
   "cell_type": "markdown",
   "metadata": {},
   "source": [
    "On peut aussi mettre en place une structure conditionnelle avec des conditions multiples"
   ]
  },
  {
   "cell_type": "markdown",
   "metadata": {},
   "source": [
    "<div class=\"alert alert-success\">\n",
    "    <h4>Exercices</h4>\n",
    "</div>"
   ]
  },
  {
   "cell_type": "markdown",
   "metadata": {},
   "source": [
    "#### Exercice 3\n",
    "\n",
    "Au cinéma le prix de la place est de 4 € pour une personne de moins de 14 ans et de 9,90 € sinon.\n",
    "\n",
    "Compléter ci-dessous la fonction `prix(...)` qui donne le prix de la place de cinéma en fonction de l'âge de la personne, puis tester cette fonction."
   ]
  },
  {
   "cell_type": "code",
   "execution_count": null,
   "metadata": {},
   "outputs": [],
   "source": [
    "def prix(...):\n",
    "    if ... < 14:\n",
    "        return ...\n",
    "    else:\n",
    "        return ...\n",
    "    \n",
    "..."
   ]
  },
  {
   "cell_type": "markdown",
   "metadata": {},
   "source": [
    "<div class=\"alert alert-success\">\n",
    "    \n",
    "</div>"
   ]
  },
  {
   "cell_type": "markdown",
   "metadata": {},
   "source": [
    "## 4. Boucles"
   ]
  },
  {
   "cell_type": "markdown",
   "metadata": {},
   "source": [
    "### 4.1 Boucles bornées (for)"
   ]
  },
  {
   "cell_type": "markdown",
   "metadata": {},
   "source": [
    "Une boucle \"Pour\" est introduite par l'instruction `for`.\n",
    "\n",
    "On utilise une boucle \"Pour\" lorsqu'on connaît par avance le nombre de répétitions nécessaires.\n",
    "\n",
    "Les deux points `:` à la fin de la ligne ouvrent le bloc indenté comportant les instructions à répéter.\n",
    "\n",
    "C'est le retour vers la gauche, à l'indentation précédente, qui marque la fin de la boucle (FinPour en pseudo-code)\n",
    "\n",
    "Exécuter l'exemple ci-dessous :"
   ]
  },
  {
   "cell_type": "code",
   "execution_count": null,
   "metadata": {},
   "outputs": [],
   "source": [
    "for k in range(10):\n",
    "    print(\"je recopie 10 fois\")\n",
    "print(\"Boucle terminée\")"
   ]
  },
  {
   "cell_type": "markdown",
   "metadata": {},
   "source": [
    "**Attention !!!** La variable `k`, qui sert de compteur dans cette boucle, prend 10 valeurs différentes, mais en commençant par 0 : elle prend successivement les valeurs 0, 1, 2, 3, 4, 5, 6, 7, 8, 9."
   ]
  },
  {
   "cell_type": "code",
   "execution_count": null,
   "metadata": {},
   "outputs": [],
   "source": [
    "for k in range(10):\n",
    "    print(k)"
   ]
  },
  {
   "cell_type": "markdown",
   "metadata": {},
   "source": [
    "`range` peut prendre plusieurs arguments : début, fin et pas. Cependant, la valeur finale est **toujours exclue**.\n",
    "\n",
    "* `for k in range(2, 62, 10)` ; `k` prend les valeurs 2, 12, 22, 32, 42, 52\n",
    "* `for k in range(1,5)` ; `k` prend les valeurs 1, 2, 3, 4\n",
    "* `for k in range(5)` ; `k` prend les valeurs 0, 1, 2, 3, 4"
   ]
  },
  {
   "cell_type": "markdown",
   "metadata": {},
   "source": [
    "<div class=\"alert alert-success\">\n",
    "    <h4>Exercices</h4>\n",
    "</div>"
   ]
  },
  {
   "cell_type": "markdown",
   "metadata": {},
   "source": [
    "#### Exercice 4\n",
    "\n",
    "Ecrire un programme dans la cellule ci-dessous, permettant d'afficher les valeurs de la fonction $g:x\\mapsto x(x+2)$ pour $x$ allant de -5 à 10 avec un pas de 1."
   ]
  },
  {
   "cell_type": "code",
   "execution_count": null,
   "metadata": {},
   "outputs": [],
   "source": [
    "# écrire votre script ci-dessous, puis le tester\n"
   ]
  },
  {
   "cell_type": "markdown",
   "metadata": {},
   "source": [
    "#### Exercice 5\n",
    "\n",
    "On considère l'algorithme ci-dessous, écrit en pseudo-code :\n",
    "\n",
    "---------\n",
    "\n",
    "$c\\leftarrow 0$  \n",
    "**Pour** $k$ allant de 1 à 6  \n",
    "&nbsp;&nbsp;&nbsp;&nbsp;&nbsp;&nbsp;$c\\leftarrow c+k$  \n",
    "**Fin Pour**  \n",
    "**Afficher** $k$\n",
    "\n",
    "----------\n",
    "\n",
    "1. Indiquer le contenu de la variable $c$ au fur et à mesure de l'éxécution de cet algorithme.\n",
    "2. Traduire cet algorithme en python dans la cellule ci-dessous."
   ]
  },
  {
   "cell_type": "code",
   "execution_count": null,
   "metadata": {},
   "outputs": [],
   "source": [
    "# écrire votre script ci-dessous, puis le tester\n",
    "\n"
   ]
  },
  {
   "cell_type": "markdown",
   "metadata": {},
   "source": [
    "<div class=\"alert alert-success\">\n",
    "    \n",
    "</div>"
   ]
  },
  {
   "cell_type": "markdown",
   "metadata": {},
   "source": [
    "### 4.2 Boucles non bornées"
   ]
  },
  {
   "cell_type": "markdown",
   "metadata": {},
   "source": [
    "Une boucle \"Tant que\" est introduite par l'instruction `while`.\n",
    "\n",
    "On utilise une boucle \"Tant que\" lorsqu'on ne connaît pas par avance le nombre de répétitions nécessaires mais que l'on connaît une **condition d'arrêt** de la boucle.\n",
    "\n",
    "Les deux points `:` à la fin de la ligne ouvrent le bloc indenté comportant les instructions à répéter.\n",
    "\n",
    "C'est le retour vers la gauche, à l'indentation précédente, qui marque la fin de la boucle (FinPour en pseudo-code)\n",
    "\n",
    "Exécuter l'exemple ci-dessous :"
   ]
  },
  {
   "cell_type": "code",
   "execution_count": null,
   "metadata": {},
   "outputs": [],
   "source": [
    "k = 1\n",
    "while k<=10:\n",
    "    print(\"Je recopie 10 fois\")\n",
    "    k = k + 1\n",
    "print(\"Boucle terminée\")"
   ]
  },
  {
   "cell_type": "markdown",
   "metadata": {},
   "source": [
    "---------\n",
    "\n",
    "Présentons un exemple plus élaboré :\n",
    "\n",
    "J'ai placé à la banque une somme de 4000 € au taux de 5 % : à la fin de chaque année, la somme placée est augmentée de 5 %, c'est-à-dire multipliée par $1+\\frac{5}{100}=1.05$.\n",
    "\n",
    "* Le montant initial est égal à 4000 €.\n",
    "* Le montant à la fin de la première année est égal à $4000\\times 1.05=4200$ €.\n",
    "* Le montant à la fin de la deuxièmee année est égal à $4200\\times 1.05=4410$ €.\n",
    "\n",
    "Je souhaite savoir au bout de combien d'année je disposerai d'une somme supérieure à 5000 €.\n",
    "\n",
    "L'algorithme ci-dessous répond à cette question :"
   ]
  },
  {
   "cell_type": "markdown",
   "metadata": {},
   "source": [
    "---------\n",
    "\n",
    "montant $\\leftarrow 4000$  \n",
    "annee $\\leftarrow 0$  \n",
    "**Tant que** montant < 4800  \n",
    "&nbsp;&nbsp;&nbsp;&nbsp;&nbsp;&nbsp;montant $\\leftarrow$ montant $\\times 1.05$      \n",
    "&nbsp;&nbsp;&nbsp;&nbsp;&nbsp;&nbsp;annee $\\leftarrow$ annee + 1      \n",
    "**Fin Tant que**\n",
    "\n",
    "---------------\n",
    "\n",
    "Voici sa traduction en python :"
   ]
  },
  {
   "cell_type": "code",
   "execution_count": null,
   "metadata": {},
   "outputs": [],
   "source": [
    "montant = 4000\n",
    "annee = 0\n",
    "while montant < 5000:\n",
    "    montant = montant*1.05\n",
    "    annee = annee + 1\n",
    "print(annee)"
   ]
  },
  {
   "cell_type": "markdown",
   "metadata": {},
   "source": [
    "Je disposerai de 5000 € au bout de 5 années."
   ]
  },
  {
   "cell_type": "markdown",
   "metadata": {},
   "source": [
    "<div class=\"alert alert-success\">\n",
    "    <h4>Exercices</h4>\n",
    "</div>"
   ]
  },
  {
   "cell_type": "markdown",
   "metadata": {},
   "source": [
    "#### Exercice 6\n",
    "\n",
    "En pseudo-code, on note NbAlea(1;6) le tirage d'un nombre entier aléatoire entre 1 et 6 compris. En python, cela correspond à l'instruction `randint(1,6)` après importation de la bibliothèque `random`.\n",
    "\n",
    "1. Expliquer précisément ce que fait l'algorithme suivant :\n",
    "\n",
    "-------\n",
    "\n",
    "$de\\leftarrow NbAlea(1;6)$  \n",
    "$compteur\\leftarrow 1$  \n",
    "**Tant que** $de$ est différent de 6  \n",
    "&nbsp;&nbsp;&nbsp;&nbsp;&nbsp;&nbsp;$de\\leftarrow NbAlea(1;6)$  \n",
    "&nbsp;&nbsp;&nbsp;&nbsp;&nbsp;&nbsp;$compteur\\leftarrow compteur+1$  \n",
    "**Fin Tant que**  \n",
    "**Afficher** $compteur$\n",
    "\n",
    "------\n",
    "\n",
    "2. Traduire ci-dessous cet algorithme en python."
   ]
  },
  {
   "cell_type": "code",
   "execution_count": null,
   "metadata": {},
   "outputs": [],
   "source": [
    "from random import *\n",
    "\n",
    "# écrire votre script ci-dessous, puis le tester\n",
    "\n"
   ]
  },
  {
   "cell_type": "markdown",
   "metadata": {},
   "source": [
    "<div class=\"alert alert-success\">\n",
    "    \n",
    "</div>"
   ]
  }
 ],
 "metadata": {
  "kernelspec": {
   "display_name": "Python 3",
   "language": "python",
   "name": "python3"
  },
  "language_info": {
   "codemirror_mode": {
    "name": "ipython",
    "version": 3
   },
   "file_extension": ".py",
   "mimetype": "text/x-python",
   "name": "python",
   "nbconvert_exporter": "python",
   "pygments_lexer": "ipython3",
   "version": "3.7.4"
  }
 },
 "nbformat": 4,
 "nbformat_minor": 4
}
