{
 "cells": [
  {
   "cell_type": "markdown",
   "id": "f0271cbb-df0e-461a-a021-4dd3b2aae39c",
   "metadata": {},
   "source": [
    "# Matrices et Python"
   ]
  },
  {
   "cell_type": "markdown",
   "id": "3c4e2ddb-d84b-4208-bcf9-408f6e200b5e",
   "metadata": {},
   "source": [
    "L'objectif de ce travail est d'apprendre à définir et à utiliser des matrices dans un script Python.\n",
    "\n",
    "Ce document est disponible en mode interactif à partir du lien ci-dessous.\n",
    "\n",
    "[![badge](https://img.shields.io/badge/Maths%20expertes%20:%20Matrices-binder-E66581.svg?logo=data:image/png;base64,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)](https://mybinder.org/v2/gh/fabricelallemand15/Jupyter_Notebooks/master?labpath=%2FMaths_expertes%2FMatrices_Python.ipynb)\n",
    "\n",
    "Chaque bloc de code (fond gris) doit être exécuté (flèche noire en haut de page ou Shift + Enter et peut être modifié au fur et à mesure de la lecture."
   ]
  },
  {
   "cell_type": "markdown",
   "id": "9fd4559f-a068-464b-86d5-8e6f3ee9bec7",
   "metadata": {},
   "source": [
    "## Définition et opérations\n",
    "\n",
    "### Définition d'une matrice\n",
    "\n",
    "Pour travailler avec les matrices, nous utiliserons la librairie Python `numpy`, référence pour le calcul scientifique en Python. Pour cela, la première chose à faire est d'importer cette librairie.\n",
    "\n",
    "Les matrices peuvent ensuite être définies avec l'instruction `array` de la librairie `numpy`, qui prend en argument la liste des lignes de la matrice à définir.\n",
    "\n",
    "Le code ci-dessous définit la matrice $A=\\begin{pmatrix} 2 & -4 & 0 \\\\ -1 & -2 & 1\\end{pmatrix}$ de taille $2\\times 3$ et la matrice $B=\\begin{pmatrix} -2 & -1  \\\\ 0 &  1\\end{pmatrix}$ de taille $2\\times 2$.\n",
    "\n",
    "La fonction `np.shape()` renvoie la taille d'une matrice sous la forme d'un couple d'entiers."
   ]
  },
  {
   "cell_type": "code",
   "execution_count": null,
   "id": "1eb962cf-fb0d-41b1-8746-58be30002795",
   "metadata": {},
   "outputs": [],
   "source": [
    "import numpy as np\n",
    "\n",
    "A = np.array([[2,-4,0],[-1,-2,1]])\n",
    "B = np.array([[-2,-1],[0,1]])\n",
    "\n",
    "print(A, np.shape(A))\n",
    "print(B, np.shape(B))"
   ]
  },
  {
   "cell_type": "markdown",
   "id": "9915de8b-fc41-487f-b48e-950de027a3a4",
   "metadata": {},
   "source": [
    "### Somme, différence, produit par un réel\n",
    "\n",
    "L'addition de deux matrices de même taille se fera simplement avec le signe `+`, la soustraction avec le signe `-`.\n",
    "\n",
    "Pour multiplier une matrice par un réel, on utilisera le symbole `*`."
   ]
  },
  {
   "cell_type": "code",
   "execution_count": null,
   "id": "f8432192-479d-469c-be23-2cc6ac176244",
   "metadata": {},
   "outputs": [],
   "source": [
    "C = 2*A\n",
    "print(C)\n",
    "print(A+C)\n",
    "print(A-C)"
   ]
  },
  {
   "cell_type": "markdown",
   "id": "2c56a775-821e-4b2c-a382-c2ed8330621e",
   "metadata": {},
   "source": [
    "### Produit de deux matrices\n",
    "Pour le produit de matrices, il faut faire attention ! Le symbole `*` entre deux matrices de même taille renvoie la matrice dont les coefficients sont les produits terme à terme des coeficients des deux matrices de départ. Cela ne correspond pas au produit de deux matrices."
   ]
  },
  {
   "cell_type": "code",
   "execution_count": null,
   "id": "1a6d4de4-ea81-4b41-a39b-c6a54a26b3ef",
   "metadata": {},
   "outputs": [],
   "source": [
    "print(A*C)"
   ]
  },
  {
   "cell_type": "markdown",
   "id": "27ba1089-cf69-4012-88af-8201140f7b92",
   "metadata": {},
   "source": [
    "Avec une version récente de Python (à partir de la version 3.5), on peut réaliser un produit de matrices en utilisant le symbole `@`. Pour des versions plus anciennes, on utilise la fonction `np.dot()`.\n",
    "\n",
    "Bien entendu, on ne peut multiplier une matrice de taille $m\\times n$ que par une matrice de taille $n\\times p$ !\n",
    "\n",
    "Dans notre exemple, on peut calculer le produit $B\\times A$ de la matrice $B$ de taille $2\\times 2$ par la matrice $A$ de taille $2\\times 3$ par "
   ]
  },
  {
   "cell_type": "code",
   "execution_count": null,
   "id": "7dceabc1-6fee-4f5f-a65e-d29064e78072",
   "metadata": {},
   "outputs": [],
   "source": [
    "print(B@A)\n",
    "print(np.dot(B,A))"
   ]
  },
  {
   "cell_type": "markdown",
   "id": "ec766f45-9e3f-430a-bcc3-7257acf6bdc9",
   "metadata": {},
   "source": [
    "### Puissance et inverse d'une matrice carrée\n",
    "\n",
    "Pour calculer la puissance d'une matrice carrée, nous aurons besoin d'une fonction supplémentaire `matrix_power(B,n)` de la sous-librairie `linalg` du module `numpy`.\n",
    "$B$ doit être une matrice carrée. Si $n$ est un entier naturel, la fonction renvoie la matrice $A^n$ ; si $n=0$, elle envoie la matrice identité de même taille que $B$ ; si $n=-1$ et si $B$ est inversible, elle renvoie **l'inverse** de la matrice $B$."
   ]
  },
  {
   "cell_type": "code",
   "execution_count": null,
   "id": "d114baab-6e38-472a-82d8-fb5c17cc00bb",
   "metadata": {},
   "outputs": [],
   "source": [
    "from numpy.linalg import matrix_power\n",
    "\n",
    "for k in range(5):\n",
    "    print(\"B^\",k,\"=\",matrix_power(B,k))\n",
    "print(\"Inverse de B : \",matrix_power(B,-1))"
   ]
  },
  {
   "cell_type": "markdown",
   "id": "a5489919-2fda-48c8-935e-8e40e2c56305",
   "metadata": {},
   "source": [
    "### Fonctions complémentaires\n",
    "\n",
    "Voici quelques exemples d'autres fonctions disponibles sur les matrices.\n",
    "\n",
    "* La commande `.T` permet d'obtenir la transposée d'une matrice (échange entre les lignes et les colonnes).\n",
    "* `np.zeros((n,p))` renvoie la matrice nulle de taille $n\\times p$.\n",
    "* `np.eye(n,p)` renvoie la matrice diagonale de taille $n\\times p$ avec des 1 sur la diagonale.\n",
    "* `np.ones((n,p))` renvoie la matrice de taille $n\\times p$ remplie de 1.\n",
    "* `np.random.randint(n1,n2,(n,p))` renvoie une matrice de taille $n\\times p$ remplie d'entiers aléatoires compris entre $n_1$ inclus et $n_2$ exclu."
   ]
  },
  {
   "cell_type": "code",
   "execution_count": null,
   "id": "f76db6d0-0ef3-451e-bd7b-aed69c5ae994",
   "metadata": {},
   "outputs": [],
   "source": [
    "print(A.T)\n",
    "print()\n",
    "print(np.zeros((2,6)))\n",
    "print()\n",
    "print(np.eye(6,6))\n",
    "print()\n",
    "print(np.ones((2,6)))\n",
    "print()\n",
    "print(np.random.randint(1,10,(5,5)))"
   ]
  },
  {
   "cell_type": "markdown",
   "id": "fc372329-c545-4a7f-baf7-283975e8407a",
   "metadata": {},
   "source": [
    "## Exercice : calcul de la puissance d'une matrice carrée"
   ]
  },
  {
   "cell_type": "markdown",
   "id": "c24cdce7-6ff1-434e-9083-54035ceeb3c6",
   "metadata": {},
   "source": [
    "On rappelle que la matrice $B$ a été définie en début de notebook par $B=\\begin{pmatrix} -2 & -1  \\\\ 0 &  1\\end{pmatrix}$.\n",
    "\n",
    "On souhaite déterminer une formule générale pour $B^n$.\n",
    "\n",
    "1. Compléter le script ci-dessous pour qu'il affiche les matrices $B^n$, de $n=1$ à $n=10$.\n",
    "2. En déduire une conjecture donnant $B^n$ en fonction de $n$ sous la forme $\\begin{pmatrix} a_n & b_n \\\\ c_n & d_n\\end{pmatrix}$, en précisant la conjecture pour les valeurs de $a_n$, $c_n$ et $d_n$.\n",
    "3. Montrer par récurrence que les suites $a_n$, $c_n$ et $d_n$ ont bien les expressions conjecturées à la question précédente et que la suite $b_n$ vérifie, pour tout entier $n\\geqslant 1$, $b_{n+1}=-2b_n-1$. \n",
    "(*Indication : on admettra qu'une matrice carrée et une de ses puissances commutent, autrement dit : $B^n\\times B=B\\times B^n=B^{n+1}$.*)\n",
    "4. Pour tout entier $n\\geqslant 1$, on pose $u_n=b_n+\\frac{1}{3}$. Montrer que la suite $(u_n)$ est géométrique.\n",
    "5. En déduire l'expression de $u_n$, puis de $b_n$ en fonction de $n$, pour n entier naturel non nul.\n",
    "3. Donner enfin la forme générale de $B^n$ en fonction de $n$."
   ]
  },
  {
   "cell_type": "code",
   "execution_count": null,
   "id": "4aab5253-01f2-4c11-b29d-46cf7ff18c4c",
   "metadata": {},
   "outputs": [],
   "source": [
    "# Entrer votre script ci-dessous\n"
   ]
  },
  {
   "cell_type": "markdown",
   "id": "e292606a-119d-4c49-8f26-e0083943c597",
   "metadata": {},
   "source": [
    "## Exercice : Résolution d'un système d'équations\n",
    "\n",
    "On s'intéresse au système suivant : $\\mathcal{S}\\left\\{\\begin{array}{l}x+y-z=1 \\\\ -x+2y+z=0 \\\\ 2x+y-z=1\\end{array}\\right.$.\n",
    "\n",
    "On admet que ce système possède une unique solution dans $\\mathbb{R}^3$.\n",
    "\n",
    "Compléter le script ci-dessous en définissant les matrices $A$ et $B$ qui permettent d'écrire la forme matricielle $AX=B$ de ce système et en faisant les calculs nécessaires à l'affichage du vecteur colonne $X$ des solutions."
   ]
  },
  {
   "cell_type": "code",
   "execution_count": null,
   "id": "8c0382f5-6c06-429f-9208-77c6ef37173c",
   "metadata": {},
   "outputs": [],
   "source": [
    "# Entrer votre script ci-dessous"
   ]
  }
 ],
 "metadata": {
  "kernelspec": {
   "display_name": "Python 3 (ipykernel)",
   "language": "python",
   "name": "python3"
  },
  "language_info": {
   "codemirror_mode": {
    "name": "ipython",
    "version": 3
   },
   "file_extension": ".py",
   "mimetype": "text/x-python",
   "name": "python",
   "nbconvert_exporter": "python",
   "pygments_lexer": "ipython3",
   "version": "3.9.7"
  }
 },
 "nbformat": 4,
 "nbformat_minor": 5
}
